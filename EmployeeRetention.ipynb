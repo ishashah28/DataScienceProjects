{
 "cells": [
  {
   "cell_type": "markdown",
   "metadata": {},
   "source": [
    "We got employee data from a few companies. We have data about all employees who joined\n",
    "from 2011/01/24 to 2015/12/13. For each employee, we also know if they are still at the\n",
    "company as of 2015/12/13 or they have quit. Beside that, we have general info about the\n",
    "employee, such as avg salary during her tenure, dept, and yrs of experience.\n",
    "As said above, the goal is to predict employee retention and understand its main drivers.\n",
    "Specifically, you should:\n",
    " - Assume, for each company, that the headcount starts from zero on 2011/01/23. Estimate\n",
    "employee headcount, for each company, on each day, from 2011/01/24 to 2015/12/13.\n",
    "That is, if by 2012/03/02 2000 people have joined company 1 and 1000 of them have\n",
    "already quit, then company headcount on 2012/03/02 for company 1 would be 1000.\n",
    "You should create a table with 3 columns: day, employee_headcount, company_id.\n",
    "- What are the main factors that drive employee churn? Do they make sense? Explain your\n",
    "findings.\n",
    "- If you could add to this data set just one variable that could help explain employee churn,\n",
    "what would that be?"
   ]
  },
  {
   "cell_type": "code",
   "execution_count": 3,
   "metadata": {},
   "outputs": [
    {
     "data": {
      "text/html": [
       "<div>\n",
       "<style>\n",
       "    .dataframe thead tr:only-child th {\n",
       "        text-align: right;\n",
       "    }\n",
       "\n",
       "    .dataframe thead th {\n",
       "        text-align: left;\n",
       "    }\n",
       "\n",
       "    .dataframe tbody tr th {\n",
       "        vertical-align: top;\n",
       "    }\n",
       "</style>\n",
       "<table border=\"1\" class=\"dataframe\">\n",
       "  <thead>\n",
       "    <tr style=\"text-align: right;\">\n",
       "      <th></th>\n",
       "      <th>employee_id</th>\n",
       "      <th>company_id</th>\n",
       "      <th>dept</th>\n",
       "      <th>seniority</th>\n",
       "      <th>salary</th>\n",
       "      <th>join_date</th>\n",
       "      <th>quit_date</th>\n",
       "    </tr>\n",
       "  </thead>\n",
       "  <tbody>\n",
       "    <tr>\n",
       "      <th>0</th>\n",
       "      <td>13021.0</td>\n",
       "      <td>7</td>\n",
       "      <td>customer_service</td>\n",
       "      <td>28</td>\n",
       "      <td>89000.0</td>\n",
       "      <td>2014-03-24</td>\n",
       "      <td>2015-10-30</td>\n",
       "    </tr>\n",
       "    <tr>\n",
       "      <th>1</th>\n",
       "      <td>825355.0</td>\n",
       "      <td>7</td>\n",
       "      <td>marketing</td>\n",
       "      <td>20</td>\n",
       "      <td>183000.0</td>\n",
       "      <td>2013-04-29</td>\n",
       "      <td>2014-04-04</td>\n",
       "    </tr>\n",
       "    <tr>\n",
       "      <th>2</th>\n",
       "      <td>927315.0</td>\n",
       "      <td>4</td>\n",
       "      <td>marketing</td>\n",
       "      <td>14</td>\n",
       "      <td>101000.0</td>\n",
       "      <td>2014-10-13</td>\n",
       "      <td>NaN</td>\n",
       "    </tr>\n",
       "    <tr>\n",
       "      <th>3</th>\n",
       "      <td>662910.0</td>\n",
       "      <td>7</td>\n",
       "      <td>customer_service</td>\n",
       "      <td>20</td>\n",
       "      <td>115000.0</td>\n",
       "      <td>2012-05-14</td>\n",
       "      <td>2013-06-07</td>\n",
       "    </tr>\n",
       "    <tr>\n",
       "      <th>4</th>\n",
       "      <td>256971.0</td>\n",
       "      <td>2</td>\n",
       "      <td>data_science</td>\n",
       "      <td>23</td>\n",
       "      <td>276000.0</td>\n",
       "      <td>2011-10-17</td>\n",
       "      <td>2014-08-22</td>\n",
       "    </tr>\n",
       "  </tbody>\n",
       "</table>\n",
       "</div>"
      ],
      "text/plain": [
       "   employee_id  company_id              dept  seniority    salary   join_date  \\\n",
       "0      13021.0           7  customer_service         28   89000.0  2014-03-24   \n",
       "1     825355.0           7         marketing         20  183000.0  2013-04-29   \n",
       "2     927315.0           4         marketing         14  101000.0  2014-10-13   \n",
       "3     662910.0           7  customer_service         20  115000.0  2012-05-14   \n",
       "4     256971.0           2      data_science         23  276000.0  2011-10-17   \n",
       "\n",
       "    quit_date  \n",
       "0  2015-10-30  \n",
       "1  2014-04-04  \n",
       "2         NaN  \n",
       "3  2013-06-07  \n",
       "4  2014-08-22  "
      ]
     },
     "execution_count": 3,
     "metadata": {},
     "output_type": "execute_result"
    }
   ],
   "source": [
    "import pandas as pd\n",
    "\n",
    "df = pd.read_csv(\"/Users/ishashah/Documents/Python Training/DatascienceBook/employee_retention_data.csv\")\n",
    "df.head()"
   ]
  },
  {
   "cell_type": "code",
   "execution_count": 4,
   "metadata": {
    "collapsed": true
   },
   "outputs": [],
   "source": [
    "import datetime as dt"
   ]
  },
  {
   "cell_type": "code",
   "execution_count": 5,
   "metadata": {},
   "outputs": [
    {
     "data": {
      "text/html": [
       "<div>\n",
       "<style>\n",
       "    .dataframe thead tr:only-child th {\n",
       "        text-align: right;\n",
       "    }\n",
       "\n",
       "    .dataframe thead th {\n",
       "        text-align: left;\n",
       "    }\n",
       "\n",
       "    .dataframe tbody tr th {\n",
       "        vertical-align: top;\n",
       "    }\n",
       "</style>\n",
       "<table border=\"1\" class=\"dataframe\">\n",
       "  <thead>\n",
       "    <tr style=\"text-align: right;\">\n",
       "      <th></th>\n",
       "      <th>employee_id</th>\n",
       "      <th>company_id</th>\n",
       "      <th>seniority</th>\n",
       "      <th>salary</th>\n",
       "    </tr>\n",
       "  </thead>\n",
       "  <tbody>\n",
       "    <tr>\n",
       "      <th>count</th>\n",
       "      <td>24702.000000</td>\n",
       "      <td>24702.000000</td>\n",
       "      <td>24702.000000</td>\n",
       "      <td>24702.000000</td>\n",
       "    </tr>\n",
       "    <tr>\n",
       "      <th>mean</th>\n",
       "      <td>501604.403530</td>\n",
       "      <td>3.426969</td>\n",
       "      <td>14.127803</td>\n",
       "      <td>138183.345478</td>\n",
       "    </tr>\n",
       "    <tr>\n",
       "      <th>std</th>\n",
       "      <td>288909.026101</td>\n",
       "      <td>2.700011</td>\n",
       "      <td>8.089520</td>\n",
       "      <td>76058.184573</td>\n",
       "    </tr>\n",
       "    <tr>\n",
       "      <th>min</th>\n",
       "      <td>36.000000</td>\n",
       "      <td>1.000000</td>\n",
       "      <td>1.000000</td>\n",
       "      <td>17000.000000</td>\n",
       "    </tr>\n",
       "    <tr>\n",
       "      <th>25%</th>\n",
       "      <td>250133.750000</td>\n",
       "      <td>1.000000</td>\n",
       "      <td>7.000000</td>\n",
       "      <td>79000.000000</td>\n",
       "    </tr>\n",
       "    <tr>\n",
       "      <th>50%</th>\n",
       "      <td>500793.000000</td>\n",
       "      <td>2.000000</td>\n",
       "      <td>14.000000</td>\n",
       "      <td>123000.000000</td>\n",
       "    </tr>\n",
       "    <tr>\n",
       "      <th>75%</th>\n",
       "      <td>753137.250000</td>\n",
       "      <td>5.000000</td>\n",
       "      <td>21.000000</td>\n",
       "      <td>187000.000000</td>\n",
       "    </tr>\n",
       "    <tr>\n",
       "      <th>max</th>\n",
       "      <td>999969.000000</td>\n",
       "      <td>12.000000</td>\n",
       "      <td>99.000000</td>\n",
       "      <td>408000.000000</td>\n",
       "    </tr>\n",
       "  </tbody>\n",
       "</table>\n",
       "</div>"
      ],
      "text/plain": [
       "         employee_id    company_id     seniority         salary\n",
       "count   24702.000000  24702.000000  24702.000000   24702.000000\n",
       "mean   501604.403530      3.426969     14.127803  138183.345478\n",
       "std    288909.026101      2.700011      8.089520   76058.184573\n",
       "min        36.000000      1.000000      1.000000   17000.000000\n",
       "25%    250133.750000      1.000000      7.000000   79000.000000\n",
       "50%    500793.000000      2.000000     14.000000  123000.000000\n",
       "75%    753137.250000      5.000000     21.000000  187000.000000\n",
       "max    999969.000000     12.000000     99.000000  408000.000000"
      ]
     },
     "execution_count": 5,
     "metadata": {},
     "output_type": "execute_result"
    }
   ],
   "source": [
    "df.describe()"
   ]
  },
  {
   "cell_type": "code",
   "execution_count": 6,
   "metadata": {},
   "outputs": [
    {
     "data": {
      "text/html": [
       "<div>\n",
       "<style>\n",
       "    .dataframe thead tr:only-child th {\n",
       "        text-align: right;\n",
       "    }\n",
       "\n",
       "    .dataframe thead th {\n",
       "        text-align: left;\n",
       "    }\n",
       "\n",
       "    .dataframe tbody tr th {\n",
       "        vertical-align: top;\n",
       "    }\n",
       "</style>\n",
       "<table border=\"1\" class=\"dataframe\">\n",
       "  <thead>\n",
       "    <tr style=\"text-align: right;\">\n",
       "      <th></th>\n",
       "      <th>employee_id</th>\n",
       "      <th>company_id</th>\n",
       "      <th>dept</th>\n",
       "      <th>seniority</th>\n",
       "      <th>salary</th>\n",
       "      <th>join_date</th>\n",
       "      <th>quit_date</th>\n",
       "    </tr>\n",
       "  </thead>\n",
       "  <tbody>\n",
       "    <tr>\n",
       "      <th>24700</th>\n",
       "      <td>97289.0</td>\n",
       "      <td>10</td>\n",
       "      <td>engineer</td>\n",
       "      <td>98</td>\n",
       "      <td>266000.0</td>\n",
       "      <td>2011-12-13</td>\n",
       "      <td>2015-01-09</td>\n",
       "    </tr>\n",
       "    <tr>\n",
       "      <th>24701</th>\n",
       "      <td>604052.0</td>\n",
       "      <td>1</td>\n",
       "      <td>marketing</td>\n",
       "      <td>99</td>\n",
       "      <td>185000.0</td>\n",
       "      <td>2011-07-26</td>\n",
       "      <td>2013-12-06</td>\n",
       "    </tr>\n",
       "  </tbody>\n",
       "</table>\n",
       "</div>"
      ],
      "text/plain": [
       "       employee_id  company_id       dept  seniority    salary   join_date  \\\n",
       "24700      97289.0          10   engineer         98  266000.0  2011-12-13   \n",
       "24701     604052.0           1  marketing         99  185000.0  2011-07-26   \n",
       "\n",
       "        quit_date  \n",
       "24700  2015-01-09  \n",
       "24701  2013-12-06  "
      ]
     },
     "execution_count": 6,
     "metadata": {},
     "output_type": "execute_result"
    }
   ],
   "source": [
    "df.loc[df['seniority'] > 75,:]"
   ]
  },
  {
   "cell_type": "code",
   "execution_count": 7,
   "metadata": {},
   "outputs": [
    {
     "data": {
      "text/plain": [
       "customer_service    9180\n",
       "engineer            4613\n",
       "data_science        3190\n",
       "sales               3172\n",
       "marketing           3167\n",
       "design              1380\n",
       "Name: dept, dtype: int64"
      ]
     },
     "execution_count": 7,
     "metadata": {},
     "output_type": "execute_result"
    }
   ],
   "source": [
    "df['dept'].value_counts()"
   ]
  },
  {
   "cell_type": "code",
   "execution_count": 8,
   "metadata": {},
   "outputs": [
    {
     "data": {
      "text/plain": [
       "24702"
      ]
     },
     "execution_count": 8,
     "metadata": {},
     "output_type": "execute_result"
    }
   ],
   "source": [
    "len(df['employee_id'].unique())"
   ]
  },
  {
   "cell_type": "markdown",
   "metadata": {},
   "source": [
    "- Remove semiority outliers abpve 75. There are 2 outliers so removing them from the dataframe"
   ]
  },
  {
   "cell_type": "code",
   "execution_count": 9,
   "metadata": {
    "collapsed": true
   },
   "outputs": [],
   "source": [
    "df = df.loc[df['seniority']<75,:]"
   ]
  },
  {
   "cell_type": "code",
   "execution_count": 10,
   "metadata": {},
   "outputs": [
    {
     "data": {
      "text/html": [
       "<div>\n",
       "<style>\n",
       "    .dataframe thead tr:only-child th {\n",
       "        text-align: right;\n",
       "    }\n",
       "\n",
       "    .dataframe thead th {\n",
       "        text-align: left;\n",
       "    }\n",
       "\n",
       "    .dataframe tbody tr th {\n",
       "        vertical-align: top;\n",
       "    }\n",
       "</style>\n",
       "<table border=\"1\" class=\"dataframe\">\n",
       "  <thead>\n",
       "    <tr style=\"text-align: right;\">\n",
       "      <th></th>\n",
       "      <th>employee_id</th>\n",
       "      <th>company_id</th>\n",
       "      <th>seniority</th>\n",
       "      <th>salary</th>\n",
       "    </tr>\n",
       "  </thead>\n",
       "  <tbody>\n",
       "    <tr>\n",
       "      <th>count</th>\n",
       "      <td>24700.000000</td>\n",
       "      <td>24700.000000</td>\n",
       "      <td>24700.000000</td>\n",
       "      <td>24700.000000</td>\n",
       "    </tr>\n",
       "    <tr>\n",
       "      <th>mean</th>\n",
       "      <td>501616.624899</td>\n",
       "      <td>3.426802</td>\n",
       "      <td>14.120972</td>\n",
       "      <td>138176.275304</td>\n",
       "    </tr>\n",
       "    <tr>\n",
       "      <th>std</th>\n",
       "      <td>288908.533280</td>\n",
       "      <td>2.699752</td>\n",
       "      <td>8.054137</td>\n",
       "      <td>76056.331953</td>\n",
       "    </tr>\n",
       "    <tr>\n",
       "      <th>min</th>\n",
       "      <td>36.000000</td>\n",
       "      <td>1.000000</td>\n",
       "      <td>1.000000</td>\n",
       "      <td>17000.000000</td>\n",
       "    </tr>\n",
       "    <tr>\n",
       "      <th>25%</th>\n",
       "      <td>250165.250000</td>\n",
       "      <td>1.000000</td>\n",
       "      <td>7.000000</td>\n",
       "      <td>79000.000000</td>\n",
       "    </tr>\n",
       "    <tr>\n",
       "      <th>50%</th>\n",
       "      <td>500793.000000</td>\n",
       "      <td>2.000000</td>\n",
       "      <td>14.000000</td>\n",
       "      <td>123000.000000</td>\n",
       "    </tr>\n",
       "    <tr>\n",
       "      <th>75%</th>\n",
       "      <td>753142.250000</td>\n",
       "      <td>5.000000</td>\n",
       "      <td>21.000000</td>\n",
       "      <td>187000.000000</td>\n",
       "    </tr>\n",
       "    <tr>\n",
       "      <th>max</th>\n",
       "      <td>999969.000000</td>\n",
       "      <td>12.000000</td>\n",
       "      <td>29.000000</td>\n",
       "      <td>408000.000000</td>\n",
       "    </tr>\n",
       "  </tbody>\n",
       "</table>\n",
       "</div>"
      ],
      "text/plain": [
       "         employee_id    company_id     seniority         salary\n",
       "count   24700.000000  24700.000000  24700.000000   24700.000000\n",
       "mean   501616.624899      3.426802     14.120972  138176.275304\n",
       "std    288908.533280      2.699752      8.054137   76056.331953\n",
       "min        36.000000      1.000000      1.000000   17000.000000\n",
       "25%    250165.250000      1.000000      7.000000   79000.000000\n",
       "50%    500793.000000      2.000000     14.000000  123000.000000\n",
       "75%    753142.250000      5.000000     21.000000  187000.000000\n",
       "max    999969.000000     12.000000     29.000000  408000.000000"
      ]
     },
     "execution_count": 10,
     "metadata": {},
     "output_type": "execute_result"
    }
   ],
   "source": [
    "df.describe()"
   ]
  },
  {
   "cell_type": "code",
   "execution_count": 11,
   "metadata": {},
   "outputs": [
    {
     "data": {
      "text/plain": [
       "employee_id    float64\n",
       "company_id       int64\n",
       "dept            object\n",
       "seniority        int64\n",
       "salary         float64\n",
       "join_date       object\n",
       "quit_date       object\n",
       "dtype: object"
      ]
     },
     "execution_count": 11,
     "metadata": {},
     "output_type": "execute_result"
    }
   ],
   "source": [
    "df.dtypes"
   ]
  },
  {
   "cell_type": "code",
   "execution_count": 14,
   "metadata": {
    "collapsed": true
   },
   "outputs": [],
   "source": [
    "df.join_date = pd.to_datetime(df.join_date,infer_datetime_format=True)\n",
    "df.quit_date = df.quit_date.fillna(dt.date.today())\n",
    "df.quit_date = pd.to_datetime(df.quit_date,infer_datetime_format=True)\n",
    "df.quit_date = df.quit_date.dt.date\n",
    "df.quit_date = pd.to_datetime(df.quit_date,infer_datetime_format=True)\n",
    "#print(df['quit_date'])"
   ]
  },
  {
   "cell_type": "code",
   "execution_count": 15,
   "metadata": {},
   "outputs": [
    {
     "data": {
      "text/html": [
       "<div>\n",
       "<style>\n",
       "    .dataframe thead tr:only-child th {\n",
       "        text-align: right;\n",
       "    }\n",
       "\n",
       "    .dataframe thead th {\n",
       "        text-align: left;\n",
       "    }\n",
       "\n",
       "    .dataframe tbody tr th {\n",
       "        vertical-align: top;\n",
       "    }\n",
       "</style>\n",
       "<table border=\"1\" class=\"dataframe\">\n",
       "  <thead>\n",
       "    <tr style=\"text-align: right;\">\n",
       "      <th></th>\n",
       "      <th>employee_id</th>\n",
       "      <th>company_id</th>\n",
       "      <th>seniority</th>\n",
       "      <th>salary</th>\n",
       "      <th>length</th>\n",
       "    </tr>\n",
       "  </thead>\n",
       "  <tbody>\n",
       "    <tr>\n",
       "      <th>count</th>\n",
       "      <td>24700.000000</td>\n",
       "      <td>24700.000000</td>\n",
       "      <td>24700.000000</td>\n",
       "      <td>24700.000000</td>\n",
       "      <td>24700.000000</td>\n",
       "    </tr>\n",
       "    <tr>\n",
       "      <th>mean</th>\n",
       "      <td>501616.624899</td>\n",
       "      <td>3.426802</td>\n",
       "      <td>14.120972</td>\n",
       "      <td>138176.275304</td>\n",
       "      <td>901.435911</td>\n",
       "    </tr>\n",
       "    <tr>\n",
       "      <th>std</th>\n",
       "      <td>288908.533280</td>\n",
       "      <td>2.699752</td>\n",
       "      <td>8.054137</td>\n",
       "      <td>76056.331953</td>\n",
       "      <td>478.550081</td>\n",
       "    </tr>\n",
       "    <tr>\n",
       "      <th>min</th>\n",
       "      <td>36.000000</td>\n",
       "      <td>1.000000</td>\n",
       "      <td>1.000000</td>\n",
       "      <td>17000.000000</td>\n",
       "      <td>102.000000</td>\n",
       "    </tr>\n",
       "    <tr>\n",
       "      <th>25%</th>\n",
       "      <td>250165.250000</td>\n",
       "      <td>1.000000</td>\n",
       "      <td>7.000000</td>\n",
       "      <td>79000.000000</td>\n",
       "      <td>403.000000</td>\n",
       "    </tr>\n",
       "    <tr>\n",
       "      <th>50%</th>\n",
       "      <td>500793.000000</td>\n",
       "      <td>2.000000</td>\n",
       "      <td>14.000000</td>\n",
       "      <td>123000.000000</td>\n",
       "      <td>840.000000</td>\n",
       "    </tr>\n",
       "    <tr>\n",
       "      <th>75%</th>\n",
       "      <td>753142.250000</td>\n",
       "      <td>5.000000</td>\n",
       "      <td>21.000000</td>\n",
       "      <td>187000.000000</td>\n",
       "      <td>1204.000000</td>\n",
       "    </tr>\n",
       "    <tr>\n",
       "      <th>max</th>\n",
       "      <td>999969.000000</td>\n",
       "      <td>12.000000</td>\n",
       "      <td>29.000000</td>\n",
       "      <td>408000.000000</td>\n",
       "      <td>2499.000000</td>\n",
       "    </tr>\n",
       "  </tbody>\n",
       "</table>\n",
       "</div>"
      ],
      "text/plain": [
       "         employee_id    company_id     seniority         salary        length\n",
       "count   24700.000000  24700.000000  24700.000000   24700.000000  24700.000000\n",
       "mean   501616.624899      3.426802     14.120972  138176.275304    901.435911\n",
       "std    288908.533280      2.699752      8.054137   76056.331953    478.550081\n",
       "min        36.000000      1.000000      1.000000   17000.000000    102.000000\n",
       "25%    250165.250000      1.000000      7.000000   79000.000000    403.000000\n",
       "50%    500793.000000      2.000000     14.000000  123000.000000    840.000000\n",
       "75%    753142.250000      5.000000     21.000000  187000.000000   1204.000000\n",
       "max    999969.000000     12.000000     29.000000  408000.000000   2499.000000"
      ]
     },
     "execution_count": 15,
     "metadata": {},
     "output_type": "execute_result"
    }
   ],
   "source": [
    "import numpy as np\n",
    "df['length'] = df['quit_date'] - df['join_date']\n",
    "df['length'] = df['length'].apply(lambda x :  x/np.timedelta64(1,'D'))\n",
    "#print(df['length'])\n",
    "df.describe()"
   ]
  },
  {
   "cell_type": "code",
   "execution_count": 16,
   "metadata": {},
   "outputs": [
    {
     "data": {
      "text/html": [
       "<div>\n",
       "<style>\n",
       "    .dataframe thead tr:only-child th {\n",
       "        text-align: right;\n",
       "    }\n",
       "\n",
       "    .dataframe thead th {\n",
       "        text-align: left;\n",
       "    }\n",
       "\n",
       "    .dataframe tbody tr th {\n",
       "        vertical-align: top;\n",
       "    }\n",
       "</style>\n",
       "<table border=\"1\" class=\"dataframe\">\n",
       "  <thead>\n",
       "    <tr style=\"text-align: right;\">\n",
       "      <th></th>\n",
       "      <th>employee_id</th>\n",
       "      <th>company_id</th>\n",
       "      <th>dept</th>\n",
       "      <th>seniority</th>\n",
       "      <th>salary</th>\n",
       "      <th>join_date</th>\n",
       "      <th>quit_date</th>\n",
       "      <th>length</th>\n",
       "    </tr>\n",
       "  </thead>\n",
       "  <tbody>\n",
       "    <tr>\n",
       "      <th>0</th>\n",
       "      <td>13021.0</td>\n",
       "      <td>7</td>\n",
       "      <td>customer_service</td>\n",
       "      <td>28</td>\n",
       "      <td>89000.0</td>\n",
       "      <td>2014-03-24</td>\n",
       "      <td>2015-10-30</td>\n",
       "      <td>585.0</td>\n",
       "    </tr>\n",
       "    <tr>\n",
       "      <th>1</th>\n",
       "      <td>825355.0</td>\n",
       "      <td>7</td>\n",
       "      <td>marketing</td>\n",
       "      <td>20</td>\n",
       "      <td>183000.0</td>\n",
       "      <td>2013-04-29</td>\n",
       "      <td>2014-04-04</td>\n",
       "      <td>340.0</td>\n",
       "    </tr>\n",
       "    <tr>\n",
       "      <th>2</th>\n",
       "      <td>927315.0</td>\n",
       "      <td>4</td>\n",
       "      <td>marketing</td>\n",
       "      <td>14</td>\n",
       "      <td>101000.0</td>\n",
       "      <td>2014-10-13</td>\n",
       "      <td>2017-12-04</td>\n",
       "      <td>1148.0</td>\n",
       "    </tr>\n",
       "    <tr>\n",
       "      <th>3</th>\n",
       "      <td>662910.0</td>\n",
       "      <td>7</td>\n",
       "      <td>customer_service</td>\n",
       "      <td>20</td>\n",
       "      <td>115000.0</td>\n",
       "      <td>2012-05-14</td>\n",
       "      <td>2013-06-07</td>\n",
       "      <td>389.0</td>\n",
       "    </tr>\n",
       "    <tr>\n",
       "      <th>4</th>\n",
       "      <td>256971.0</td>\n",
       "      <td>2</td>\n",
       "      <td>data_science</td>\n",
       "      <td>23</td>\n",
       "      <td>276000.0</td>\n",
       "      <td>2011-10-17</td>\n",
       "      <td>2014-08-22</td>\n",
       "      <td>1040.0</td>\n",
       "    </tr>\n",
       "    <tr>\n",
       "      <th>5</th>\n",
       "      <td>509529.0</td>\n",
       "      <td>4</td>\n",
       "      <td>data_science</td>\n",
       "      <td>14</td>\n",
       "      <td>165000.0</td>\n",
       "      <td>2012-01-30</td>\n",
       "      <td>2013-08-30</td>\n",
       "      <td>578.0</td>\n",
       "    </tr>\n",
       "    <tr>\n",
       "      <th>6</th>\n",
       "      <td>88600.0</td>\n",
       "      <td>4</td>\n",
       "      <td>customer_service</td>\n",
       "      <td>21</td>\n",
       "      <td>107000.0</td>\n",
       "      <td>2013-10-21</td>\n",
       "      <td>2017-12-04</td>\n",
       "      <td>1505.0</td>\n",
       "    </tr>\n",
       "    <tr>\n",
       "      <th>7</th>\n",
       "      <td>716309.0</td>\n",
       "      <td>2</td>\n",
       "      <td>customer_service</td>\n",
       "      <td>4</td>\n",
       "      <td>30000.0</td>\n",
       "      <td>2014-03-05</td>\n",
       "      <td>2017-12-04</td>\n",
       "      <td>1370.0</td>\n",
       "    </tr>\n",
       "    <tr>\n",
       "      <th>8</th>\n",
       "      <td>172999.0</td>\n",
       "      <td>9</td>\n",
       "      <td>engineer</td>\n",
       "      <td>7</td>\n",
       "      <td>160000.0</td>\n",
       "      <td>2012-12-10</td>\n",
       "      <td>2015-10-23</td>\n",
       "      <td>1047.0</td>\n",
       "    </tr>\n",
       "    <tr>\n",
       "      <th>9</th>\n",
       "      <td>504159.0</td>\n",
       "      <td>1</td>\n",
       "      <td>sales</td>\n",
       "      <td>7</td>\n",
       "      <td>104000.0</td>\n",
       "      <td>2012-06-12</td>\n",
       "      <td>2017-12-04</td>\n",
       "      <td>2001.0</td>\n",
       "    </tr>\n",
       "    <tr>\n",
       "      <th>10</th>\n",
       "      <td>892155.0</td>\n",
       "      <td>6</td>\n",
       "      <td>customer_service</td>\n",
       "      <td>13</td>\n",
       "      <td>72000.0</td>\n",
       "      <td>2012-11-12</td>\n",
       "      <td>2015-02-27</td>\n",
       "      <td>837.0</td>\n",
       "    </tr>\n",
       "    <tr>\n",
       "      <th>11</th>\n",
       "      <td>904158.0</td>\n",
       "      <td>2</td>\n",
       "      <td>marketing</td>\n",
       "      <td>17</td>\n",
       "      <td>230000.0</td>\n",
       "      <td>2015-05-11</td>\n",
       "      <td>2017-12-04</td>\n",
       "      <td>938.0</td>\n",
       "    </tr>\n",
       "    <tr>\n",
       "      <th>12</th>\n",
       "      <td>939058.0</td>\n",
       "      <td>1</td>\n",
       "      <td>marketing</td>\n",
       "      <td>1</td>\n",
       "      <td>48000.0</td>\n",
       "      <td>2012-12-10</td>\n",
       "      <td>2013-11-15</td>\n",
       "      <td>340.0</td>\n",
       "    </tr>\n",
       "    <tr>\n",
       "      <th>13</th>\n",
       "      <td>163427.0</td>\n",
       "      <td>10</td>\n",
       "      <td>marketing</td>\n",
       "      <td>23</td>\n",
       "      <td>154000.0</td>\n",
       "      <td>2012-06-18</td>\n",
       "      <td>2015-09-25</td>\n",
       "      <td>1194.0</td>\n",
       "    </tr>\n",
       "    <tr>\n",
       "      <th>14</th>\n",
       "      <td>461248.0</td>\n",
       "      <td>2</td>\n",
       "      <td>sales</td>\n",
       "      <td>20</td>\n",
       "      <td>201000.0</td>\n",
       "      <td>2013-09-16</td>\n",
       "      <td>2014-08-22</td>\n",
       "      <td>340.0</td>\n",
       "    </tr>\n",
       "    <tr>\n",
       "      <th>15</th>\n",
       "      <td>265226.0</td>\n",
       "      <td>1</td>\n",
       "      <td>data_science</td>\n",
       "      <td>4</td>\n",
       "      <td>80000.0</td>\n",
       "      <td>2014-05-27</td>\n",
       "      <td>2015-07-10</td>\n",
       "      <td>409.0</td>\n",
       "    </tr>\n",
       "    <tr>\n",
       "      <th>16</th>\n",
       "      <td>932790.0</td>\n",
       "      <td>7</td>\n",
       "      <td>marketing</td>\n",
       "      <td>10</td>\n",
       "      <td>88000.0</td>\n",
       "      <td>2011-11-30</td>\n",
       "      <td>2013-11-22</td>\n",
       "      <td>723.0</td>\n",
       "    </tr>\n",
       "    <tr>\n",
       "      <th>17</th>\n",
       "      <td>69693.0</td>\n",
       "      <td>7</td>\n",
       "      <td>customer_service</td>\n",
       "      <td>6</td>\n",
       "      <td>54000.0</td>\n",
       "      <td>2014-03-31</td>\n",
       "      <td>2017-12-04</td>\n",
       "      <td>1344.0</td>\n",
       "    </tr>\n",
       "    <tr>\n",
       "      <th>18</th>\n",
       "      <td>721600.0</td>\n",
       "      <td>2</td>\n",
       "      <td>marketing</td>\n",
       "      <td>20</td>\n",
       "      <td>193000.0</td>\n",
       "      <td>2014-12-29</td>\n",
       "      <td>2017-12-04</td>\n",
       "      <td>1071.0</td>\n",
       "    </tr>\n",
       "    <tr>\n",
       "      <th>19</th>\n",
       "      <td>982668.0</td>\n",
       "      <td>1</td>\n",
       "      <td>customer_service</td>\n",
       "      <td>14</td>\n",
       "      <td>76000.0</td>\n",
       "      <td>2015-07-27</td>\n",
       "      <td>2017-12-04</td>\n",
       "      <td>861.0</td>\n",
       "    </tr>\n",
       "  </tbody>\n",
       "</table>\n",
       "</div>"
      ],
      "text/plain": [
       "    employee_id  company_id              dept  seniority    salary  join_date  \\\n",
       "0       13021.0           7  customer_service         28   89000.0 2014-03-24   \n",
       "1      825355.0           7         marketing         20  183000.0 2013-04-29   \n",
       "2      927315.0           4         marketing         14  101000.0 2014-10-13   \n",
       "3      662910.0           7  customer_service         20  115000.0 2012-05-14   \n",
       "4      256971.0           2      data_science         23  276000.0 2011-10-17   \n",
       "5      509529.0           4      data_science         14  165000.0 2012-01-30   \n",
       "6       88600.0           4  customer_service         21  107000.0 2013-10-21   \n",
       "7      716309.0           2  customer_service          4   30000.0 2014-03-05   \n",
       "8      172999.0           9          engineer          7  160000.0 2012-12-10   \n",
       "9      504159.0           1             sales          7  104000.0 2012-06-12   \n",
       "10     892155.0           6  customer_service         13   72000.0 2012-11-12   \n",
       "11     904158.0           2         marketing         17  230000.0 2015-05-11   \n",
       "12     939058.0           1         marketing          1   48000.0 2012-12-10   \n",
       "13     163427.0          10         marketing         23  154000.0 2012-06-18   \n",
       "14     461248.0           2             sales         20  201000.0 2013-09-16   \n",
       "15     265226.0           1      data_science          4   80000.0 2014-05-27   \n",
       "16     932790.0           7         marketing         10   88000.0 2011-11-30   \n",
       "17      69693.0           7  customer_service          6   54000.0 2014-03-31   \n",
       "18     721600.0           2         marketing         20  193000.0 2014-12-29   \n",
       "19     982668.0           1  customer_service         14   76000.0 2015-07-27   \n",
       "\n",
       "    quit_date  length  \n",
       "0  2015-10-30   585.0  \n",
       "1  2014-04-04   340.0  \n",
       "2  2017-12-04  1148.0  \n",
       "3  2013-06-07   389.0  \n",
       "4  2014-08-22  1040.0  \n",
       "5  2013-08-30   578.0  \n",
       "6  2017-12-04  1505.0  \n",
       "7  2017-12-04  1370.0  \n",
       "8  2015-10-23  1047.0  \n",
       "9  2017-12-04  2001.0  \n",
       "10 2015-02-27   837.0  \n",
       "11 2017-12-04   938.0  \n",
       "12 2013-11-15   340.0  \n",
       "13 2015-09-25  1194.0  \n",
       "14 2014-08-22   340.0  \n",
       "15 2015-07-10   409.0  \n",
       "16 2013-11-22   723.0  \n",
       "17 2017-12-04  1344.0  \n",
       "18 2017-12-04  1071.0  \n",
       "19 2017-12-04   861.0  "
      ]
     },
     "execution_count": 16,
     "metadata": {},
     "output_type": "execute_result"
    }
   ],
   "source": [
    "df.head(20)"
   ]
  },
  {
   "cell_type": "code",
   "execution_count": 17,
   "metadata": {
    "collapsed": true
   },
   "outputs": [],
   "source": [
    "join_df = df.groupby(['company_id','join_date']).employee_id.count().unstack('company_id').fillna(0)\n",
    "idx = pd.date_range(df.join_date.min(),df.quit_date.max(),freq='D')\n",
    "join_df = join_df.reindex(idx).fillna(0)\n",
    "join_df = join_df[join_df.index<'2016-01-01']"
   ]
  },
  {
   "cell_type": "code",
   "execution_count": 18,
   "metadata": {
    "collapsed": true
   },
   "outputs": [],
   "source": [
    "quit_df = df.groupby(['company_id','quit_date']).employee_id.count().unstack('company_id').fillna(0)\n",
    "quit_df = quit_df.reindex(idx).fillna(0)\n",
    "quit_df = quit_df[quit_df.index<'2016-01-01']"
   ]
  },
  {
   "cell_type": "code",
   "execution_count": 21,
   "metadata": {},
   "outputs": [
    {
     "data": {
      "text/html": [
       "<div>\n",
       "<style>\n",
       "    .dataframe thead tr:only-child th {\n",
       "        text-align: right;\n",
       "    }\n",
       "\n",
       "    .dataframe thead th {\n",
       "        text-align: left;\n",
       "    }\n",
       "\n",
       "    .dataframe tbody tr th {\n",
       "        vertical-align: top;\n",
       "    }\n",
       "</style>\n",
       "<table border=\"1\" class=\"dataframe\">\n",
       "  <thead>\n",
       "    <tr style=\"text-align: right;\">\n",
       "      <th>company_id</th>\n",
       "      <th>1</th>\n",
       "      <th>2</th>\n",
       "      <th>3</th>\n",
       "      <th>4</th>\n",
       "      <th>5</th>\n",
       "      <th>6</th>\n",
       "      <th>7</th>\n",
       "      <th>8</th>\n",
       "      <th>9</th>\n",
       "      <th>10</th>\n",
       "      <th>11</th>\n",
       "      <th>12</th>\n",
       "    </tr>\n",
       "  </thead>\n",
       "  <tbody>\n",
       "    <tr>\n",
       "      <th>2011-01-24</th>\n",
       "      <td>25.0</td>\n",
       "      <td>17.0</td>\n",
       "      <td>9.0</td>\n",
       "      <td>12.0</td>\n",
       "      <td>5.0</td>\n",
       "      <td>3.0</td>\n",
       "      <td>1.0</td>\n",
       "      <td>6.0</td>\n",
       "      <td>3.0</td>\n",
       "      <td>0.0</td>\n",
       "      <td>0.0</td>\n",
       "      <td>0.0</td>\n",
       "    </tr>\n",
       "    <tr>\n",
       "      <th>2011-01-25</th>\n",
       "      <td>27.0</td>\n",
       "      <td>19.0</td>\n",
       "      <td>10.0</td>\n",
       "      <td>12.0</td>\n",
       "      <td>5.0</td>\n",
       "      <td>3.0</td>\n",
       "      <td>1.0</td>\n",
       "      <td>6.0</td>\n",
       "      <td>3.0</td>\n",
       "      <td>0.0</td>\n",
       "      <td>0.0</td>\n",
       "      <td>0.0</td>\n",
       "    </tr>\n",
       "    <tr>\n",
       "      <th>2011-01-26</th>\n",
       "      <td>29.0</td>\n",
       "      <td>19.0</td>\n",
       "      <td>12.0</td>\n",
       "      <td>13.0</td>\n",
       "      <td>6.0</td>\n",
       "      <td>3.0</td>\n",
       "      <td>1.0</td>\n",
       "      <td>6.0</td>\n",
       "      <td>3.0</td>\n",
       "      <td>0.0</td>\n",
       "      <td>0.0</td>\n",
       "      <td>0.0</td>\n",
       "    </tr>\n",
       "    <tr>\n",
       "      <th>2011-01-27</th>\n",
       "      <td>29.0</td>\n",
       "      <td>19.0</td>\n",
       "      <td>12.0</td>\n",
       "      <td>13.0</td>\n",
       "      <td>6.0</td>\n",
       "      <td>3.0</td>\n",
       "      <td>1.0</td>\n",
       "      <td>6.0</td>\n",
       "      <td>3.0</td>\n",
       "      <td>0.0</td>\n",
       "      <td>0.0</td>\n",
       "      <td>0.0</td>\n",
       "    </tr>\n",
       "    <tr>\n",
       "      <th>2011-01-28</th>\n",
       "      <td>29.0</td>\n",
       "      <td>19.0</td>\n",
       "      <td>12.0</td>\n",
       "      <td>13.0</td>\n",
       "      <td>6.0</td>\n",
       "      <td>3.0</td>\n",
       "      <td>1.0</td>\n",
       "      <td>6.0</td>\n",
       "      <td>3.0</td>\n",
       "      <td>0.0</td>\n",
       "      <td>0.0</td>\n",
       "      <td>0.0</td>\n",
       "    </tr>\n",
       "    <tr>\n",
       "      <th>2011-01-29</th>\n",
       "      <td>29.0</td>\n",
       "      <td>19.0</td>\n",
       "      <td>12.0</td>\n",
       "      <td>13.0</td>\n",
       "      <td>6.0</td>\n",
       "      <td>3.0</td>\n",
       "      <td>1.0</td>\n",
       "      <td>6.0</td>\n",
       "      <td>3.0</td>\n",
       "      <td>0.0</td>\n",
       "      <td>0.0</td>\n",
       "      <td>0.0</td>\n",
       "    </tr>\n",
       "    <tr>\n",
       "      <th>2011-01-30</th>\n",
       "      <td>29.0</td>\n",
       "      <td>19.0</td>\n",
       "      <td>12.0</td>\n",
       "      <td>13.0</td>\n",
       "      <td>6.0</td>\n",
       "      <td>3.0</td>\n",
       "      <td>1.0</td>\n",
       "      <td>6.0</td>\n",
       "      <td>3.0</td>\n",
       "      <td>0.0</td>\n",
       "      <td>0.0</td>\n",
       "      <td>0.0</td>\n",
       "    </tr>\n",
       "    <tr>\n",
       "      <th>2011-01-31</th>\n",
       "      <td>59.0</td>\n",
       "      <td>31.0</td>\n",
       "      <td>19.0</td>\n",
       "      <td>18.0</td>\n",
       "      <td>13.0</td>\n",
       "      <td>10.0</td>\n",
       "      <td>7.0</td>\n",
       "      <td>11.0</td>\n",
       "      <td>6.0</td>\n",
       "      <td>1.0</td>\n",
       "      <td>0.0</td>\n",
       "      <td>0.0</td>\n",
       "    </tr>\n",
       "    <tr>\n",
       "      <th>2011-02-01</th>\n",
       "      <td>66.0</td>\n",
       "      <td>33.0</td>\n",
       "      <td>20.0</td>\n",
       "      <td>19.0</td>\n",
       "      <td>13.0</td>\n",
       "      <td>11.0</td>\n",
       "      <td>7.0</td>\n",
       "      <td>11.0</td>\n",
       "      <td>7.0</td>\n",
       "      <td>1.0</td>\n",
       "      <td>0.0</td>\n",
       "      <td>0.0</td>\n",
       "    </tr>\n",
       "    <tr>\n",
       "      <th>2011-02-02</th>\n",
       "      <td>67.0</td>\n",
       "      <td>35.0</td>\n",
       "      <td>20.0</td>\n",
       "      <td>19.0</td>\n",
       "      <td>13.0</td>\n",
       "      <td>11.0</td>\n",
       "      <td>7.0</td>\n",
       "      <td>12.0</td>\n",
       "      <td>7.0</td>\n",
       "      <td>2.0</td>\n",
       "      <td>0.0</td>\n",
       "      <td>0.0</td>\n",
       "    </tr>\n",
       "  </tbody>\n",
       "</table>\n",
       "</div>"
      ],
      "text/plain": [
       "company_id    1     2     3     4     5     6    7     8    9    10   11   12\n",
       "2011-01-24  25.0  17.0   9.0  12.0   5.0   3.0  1.0   6.0  3.0  0.0  0.0  0.0\n",
       "2011-01-25  27.0  19.0  10.0  12.0   5.0   3.0  1.0   6.0  3.0  0.0  0.0  0.0\n",
       "2011-01-26  29.0  19.0  12.0  13.0   6.0   3.0  1.0   6.0  3.0  0.0  0.0  0.0\n",
       "2011-01-27  29.0  19.0  12.0  13.0   6.0   3.0  1.0   6.0  3.0  0.0  0.0  0.0\n",
       "2011-01-28  29.0  19.0  12.0  13.0   6.0   3.0  1.0   6.0  3.0  0.0  0.0  0.0\n",
       "2011-01-29  29.0  19.0  12.0  13.0   6.0   3.0  1.0   6.0  3.0  0.0  0.0  0.0\n",
       "2011-01-30  29.0  19.0  12.0  13.0   6.0   3.0  1.0   6.0  3.0  0.0  0.0  0.0\n",
       "2011-01-31  59.0  31.0  19.0  18.0  13.0  10.0  7.0  11.0  6.0  1.0  0.0  0.0\n",
       "2011-02-01  66.0  33.0  20.0  19.0  13.0  11.0  7.0  11.0  7.0  1.0  0.0  0.0\n",
       "2011-02-02  67.0  35.0  20.0  19.0  13.0  11.0  7.0  12.0  7.0  2.0  0.0  0.0"
      ]
     },
     "execution_count": 21,
     "metadata": {},
     "output_type": "execute_result"
    }
   ],
   "source": [
    "new_df = join_df.subtract(quit_df).fillna(0)\n",
    "for col in new_df.columns.values:\n",
    "    new_df[col] = new_df[col].cumsum()\n",
    "new_df.head(10)\n"
   ]
  },
  {
   "cell_type": "code",
   "execution_count": 24,
   "metadata": {
    "collapsed": true
   },
   "outputs": [],
   "source": [
    "import matplotlib.pyplot as plt\n",
    "%matplotlib inline"
   ]
  },
  {
   "cell_type": "code",
   "execution_count": 38,
   "metadata": {},
   "outputs": [
    {
     "data": {
      "text/plain": [
       "<matplotlib.axes._subplots.AxesSubplot at 0x11c2300f0>"
      ]
     },
     "execution_count": 38,
     "metadata": {},
     "output_type": "execute_result"
    },
    {
     "data": {
      "image/png": "[encoded data removed]",
      "text/plain": [
       "<matplotlib.figure.Figure at 0x11c220710>"
      ]
     },
     "metadata": {},
     "output_type": "display_data"
    }
   ],
   "source": [
    "company_dist = df['company_id'].value_counts()\n",
    "company_dist.plot(kind='bar')"
   ]
  },
  {
   "cell_type": "code",
   "execution_count": 39,
   "metadata": {
    "collapsed": true
   },
   "outputs": [],
   "source": [
    "company_ret = df.groupby('company_id')['quit_date'].agg('count')"
   ]
  },
  {
   "cell_type": "code",
   "execution_count": 40,
   "metadata": {},
   "outputs": [
    {
     "name": "stdout",
     "output_type": "stream",
     "text": [
      "company_id\n",
      "1     8485\n",
      "2     4222\n",
      "3     2749\n",
      "4     2062\n",
      "5     1755\n",
      "6     1291\n",
      "7     1224\n",
      "8     1047\n",
      "9      961\n",
      "10     864\n",
      "11      16\n",
      "12      24\n",
      "Name: quit_date, dtype: int64\n"
     ]
    }
   ],
   "source": [
    "print(company_ret) # people who have quit"
   ]
  },
  {
   "cell_type": "code",
   "execution_count": 41,
   "metadata": {
    "collapsed": true
   },
   "outputs": [],
   "source": [
    "company_not_quit = df.groupby('company_id')['quit_date'].agg({lambda x : x.isnull().sum()})"
   ]
  },
  {
   "cell_type": "code",
   "execution_count": 42,
   "metadata": {},
   "outputs": [
    {
     "data": {
      "text/plain": [
       "<matplotlib.axes._subplots.AxesSubplot at 0x112a26208>"
      ]
     },
     "execution_count": 42,
     "metadata": {},
     "output_type": "execute_result"
    },
    {
     "data": {
      "image/png": "[encoded data removed]",
      "text/plain": [
       "<matplotlib.figure.Figure at 0x11f6bef98>"
      ]
     },
     "metadata": {},
     "output_type": "display_data"
    }
   ],
   "source": [
    "#print(company_not_quit) #people who have not quit\n",
    "company_not_quit.plot(kind='bar')"
   ]
  },
  {
   "cell_type": "code",
   "execution_count": 43,
   "metadata": {},
   "outputs": [
    {
     "data": {
      "text/plain": [
       "1     8485\n",
       "2     4222\n",
       "3     2749\n",
       "4     2062\n",
       "5     1755\n",
       "6     1291\n",
       "7     1224\n",
       "8     1047\n",
       "9      961\n",
       "10     864\n",
       "12      24\n",
       "11      16\n",
       "Name: company_id, dtype: int64"
      ]
     },
     "execution_count": 43,
     "metadata": {},
     "output_type": "execute_result"
    }
   ],
   "source": [
    "df['company_id'].value_counts()"
   ]
  },
  {
   "cell_type": "code",
   "execution_count": 44,
   "metadata": {},
   "outputs": [
    {
     "name": "stdout",
     "output_type": "stream",
     "text": [
      "join_date   company_id\n",
      "2011-01-24  1             25\n",
      "            2             17\n",
      "            3              9\n",
      "            4             12\n",
      "            5              5\n",
      "            6              3\n",
      "            7              1\n",
      "            8              6\n",
      "            9              3\n",
      "2011-01-25  1              2\n",
      "            2              2\n",
      "            3              1\n",
      "2011-01-26  1              2\n",
      "            3              2\n",
      "            4              1\n",
      "            5              1\n",
      "2011-01-31  1             30\n",
      "            2             12\n",
      "            3              7\n",
      "            4              5\n",
      "            5              7\n",
      "            6              7\n",
      "            7              6\n",
      "            8              5\n",
      "            9              3\n",
      "            10             1\n",
      "2011-02-01  1              7\n",
      "            2              2\n",
      "            3              1\n",
      "            4              1\n",
      "                          ..\n",
      "2015-12-01  1              3\n",
      "            2              3\n",
      "            3              2\n",
      "            4              1\n",
      "            6              1\n",
      "2015-12-02  1              1\n",
      "            7              1\n",
      "            10             1\n",
      "2015-12-03  1              1\n",
      "            2              2\n",
      "            8              1\n",
      "2015-12-07  1             22\n",
      "            2             15\n",
      "            3             11\n",
      "            4              4\n",
      "            5              6\n",
      "            6              2\n",
      "            7              4\n",
      "            8              5\n",
      "            9              6\n",
      "            10             3\n",
      "2015-12-08  1              1\n",
      "            2              2\n",
      "            6              1\n",
      "            9              1\n",
      "2015-12-09  1              1\n",
      "            2              2\n",
      "            3              1\n",
      "2015-12-10  1              1\n",
      "            10             1\n",
      "Name: join_date, Length: 5129, dtype: int64\n"
     ]
    }
   ],
   "source": [
    "# for each day/company how many people joined\n",
    "\n",
    "company_day_join = df.groupby(['join_date','company_id'])['join_date'].agg('count')\n",
    "print(company_day_join)"
   ]
  },
  {
   "cell_type": "code",
   "execution_count": 45,
   "metadata": {},
   "outputs": [
    {
     "name": "stdout",
     "output_type": "stream",
     "text": [
      "quit_date   company_id\n",
      "2011-10-13  6                1\n",
      "2011-10-14  10               1\n",
      "2011-10-21  1                1\n",
      "2011-10-28  4                1\n",
      "2011-11-11  1                1\n",
      "2011-11-22  1                1\n",
      "2011-11-25  1                1\n",
      "            2                1\n",
      "2011-12-02  6                1\n",
      "            8                1\n",
      "2011-12-09  1                1\n",
      "            4                1\n",
      "            8                1\n",
      "2011-12-13  2                1\n",
      "2011-12-16  1                1\n",
      "            2                2\n",
      "            4                3\n",
      "            5                1\n",
      "            8                1\n",
      "2011-12-23  1                2\n",
      "            3                1\n",
      "            6                1\n",
      "            7                1\n",
      "            8                2\n",
      "            10               1\n",
      "2011-12-30  1                4\n",
      "            2                1\n",
      "            3                1\n",
      "            4                1\n",
      "2012-01-03  1                1\n",
      "                          ... \n",
      "2015-12-01  3                1\n",
      "2015-12-03  1                1\n",
      "            3                1\n",
      "            7                1\n",
      "            9                1\n",
      "2015-12-04  1               26\n",
      "            2               12\n",
      "            3                8\n",
      "            4                4\n",
      "            5                3\n",
      "            6                4\n",
      "            7                7\n",
      "            8                4\n",
      "            9                4\n",
      "            10               3\n",
      "2015-12-08  1                1\n",
      "            3                1\n",
      "2015-12-09  4                1\n",
      "2017-12-01  1             3865\n",
      "            2             2016\n",
      "            3             1218\n",
      "            4              909\n",
      "            5              772\n",
      "            6              579\n",
      "            7              532\n",
      "            8              468\n",
      "            9              432\n",
      "            10             385\n",
      "            11               4\n",
      "            12              12\n",
      "Name: quit_date, Length: 2736, dtype: int64\n"
     ]
    }
   ],
   "source": [
    "company_day_quit = df.groupby(['quit_date','company_id'])['quit_date'].agg('count')\n",
    "print(company_day_quit)"
   ]
  },
  {
   "cell_type": "code",
   "execution_count": 46,
   "metadata": {
    "collapsed": true
   },
   "outputs": [],
   "source": [
    "unique_dates = list(df['join_date'].unique())"
   ]
  },
  {
   "cell_type": "code",
   "execution_count": null,
   "metadata": {
    "collapsed": true
   },
   "outputs": [],
   "source": []
  },
  {
   "cell_type": "code",
   "execution_count": 27,
   "metadata": {},
   "outputs": [
    {
     "name": "stdout",
     "output_type": "stream",
     "text": [
      "2011-01-24      5.0\n",
      "2011-01-25      5.0\n",
      "2011-01-26      6.0\n",
      "2011-01-27      6.0\n",
      "2011-01-28      6.0\n",
      "2011-01-29      6.0\n",
      "2011-01-30      6.0\n",
      "2011-01-31     13.0\n",
      "2011-02-01     13.0\n",
      "2011-02-02     13.0\n",
      "2011-02-03     13.0\n",
      "2011-02-04     13.0\n",
      "2011-02-05     13.0\n",
      "2011-02-06     13.0\n",
      "2011-02-07     17.0\n",
      "2011-02-08     18.0\n",
      "2011-02-09     18.0\n",
      "2011-02-10     20.0\n",
      "2011-02-11     20.0\n",
      "2011-02-12     20.0\n",
      "2011-02-13     20.0\n",
      "2011-02-14     35.0\n",
      "2011-02-15     35.0\n",
      "2011-02-16     35.0\n",
      "2011-02-17     35.0\n",
      "2011-02-18     35.0\n",
      "2011-02-19     35.0\n",
      "2011-02-20     35.0\n",
      "2011-02-21     35.0\n",
      "2011-02-22     40.0\n",
      "              ...  \n",
      "2015-12-02    769.0\n",
      "2015-12-03    769.0\n",
      "2015-12-04    766.0\n",
      "2015-12-05    766.0\n",
      "2015-12-06    766.0\n",
      "2015-12-07    772.0\n",
      "2015-12-08    772.0\n",
      "2015-12-09    772.0\n",
      "2015-12-10    772.0\n",
      "2015-12-11    772.0\n",
      "2015-12-12    772.0\n",
      "2015-12-13    772.0\n",
      "2015-12-14    772.0\n",
      "2015-12-15    772.0\n",
      "2015-12-16    772.0\n",
      "2015-12-17    772.0\n",
      "2015-12-18    772.0\n",
      "2015-12-19    772.0\n",
      "2015-12-20    772.0\n",
      "2015-12-21    772.0\n",
      "2015-12-22    772.0\n",
      "2015-12-23    772.0\n",
      "2015-12-24    772.0\n",
      "2015-12-25    772.0\n",
      "2015-12-26    772.0\n",
      "2015-12-27    772.0\n",
      "2015-12-28    772.0\n",
      "2015-12-29    772.0\n",
      "2015-12-30    772.0\n",
      "2015-12-31    772.0\n",
      "Freq: D, Name: 5, Length: 1803, dtype: float64\n"
     ]
    }
   ],
   "source": [
    "print(new_df[new_df.columns.values[4]])"
   ]
  },
  {
   "cell_type": "code",
   "execution_count": 47,
   "metadata": {},
   "outputs": [
    {
     "name": "stdout",
     "output_type": "stream",
     "text": [
      "995\n"
     ]
    }
   ],
   "source": [
    "print(len(unique_dates))"
   ]
  },
  {
   "cell_type": "code",
   "execution_count": 25,
   "metadata": {},
   "outputs": [
    {
     "data": {
      "text/plain": [
       "<matplotlib.axes._subplots.AxesSubplot at 0x113738f28>"
      ]
     },
     "execution_count": 25,
     "metadata": {},
     "output_type": "execute_result"
    },
    {
     "data": {
      "image/png": "[encoded data removed]",
      "text/plain": [
       "<matplotlib.figure.Figure at 0x117bc60f0>"
      ]
     },
     "metadata": {},
     "output_type": "display_data"
    }
   ],
   "source": [
    "new_df[new_df.columns.values[4]].plot(title = new_df.columns.values[4])\n",
    "# Plotting the graph of company_id 5"
   ]
  },
  {
   "cell_type": "code",
   "execution_count": 28,
   "metadata": {},
   "outputs": [
    {
     "data": {
      "text/plain": [
       "<matplotlib.axes._subplots.AxesSubplot at 0x117d45e10>"
      ]
     },
     "execution_count": 28,
     "metadata": {},
     "output_type": "execute_result"
    },
    {
     "data": {
      "image/png": "[encoded data removed]",
      "text/plain": [
       "<matplotlib.figure.Figure at 0x117be0080>"
      ]
     },
     "metadata": {},
     "output_type": "display_data"
    }
   ],
   "source": [
    "df['length'].plot(kind='hist',bins = 100)"
   ]
  },
  {
   "cell_type": "code",
   "execution_count": 30,
   "metadata": {},
   "outputs": [
    {
     "name": "stdout",
     "output_type": "stream",
     "text": [
      "375.0 Days\n"
     ]
    }
   ],
   "source": [
    "print(df['length'].mode()[0],\"Days\")"
   ]
  },
  {
   "cell_type": "markdown",
   "metadata": {
    "collapsed": true
   },
   "source": [
    "close to 1 year. Makes sense, any bonuses would be received at the end of the year. Based on the graph above, \n",
    "we might be able to say that the next popular time to quit would be after 2 years."
   ]
  },
  {
   "cell_type": "code",
   "execution_count": 36,
   "metadata": {},
   "outputs": [
    {
     "name": "stdout",
     "output_type": "stream",
     "text": [
      "(0.40085342334145768, 'salary')\n",
      "(0.31767700903843565, 'seniority')\n",
      "(0.1956340501217064, 'company_id')\n",
      "(0.085835517498400418, 'dept')\n"
     ]
    }
   ],
   "source": [
    "from sklearn.tree import DecisionTreeRegressor\n",
    "from sklearn.preprocessing import LabelEncoder\n",
    "\n",
    "df['dept'] = LabelEncoder().fit_transform(df['dept'])\n",
    "predictors = ['company_id', 'dept', 'seniority', 'salary']\n",
    "predicted = ['length']\n",
    "\n",
    "model = DecisionTreeRegressor()\n",
    "model.fit(df[predictors],df[predicted])\n",
    "for v in sorted(zip(model.feature_importances_,predictors),reverse = True):\n",
    "    print(v)\n"
   ]
  },
  {
   "cell_type": "code",
   "execution_count": 41,
   "metadata": {},
   "outputs": [
    {
     "name": "stdout",
     "output_type": "stream",
     "text": [
      "(0.40876679329395949, 'salary')\n",
      "(0.32596592299342297, 'seniority')\n",
      "(0.182163441966392, 'company_id')\n",
      "(0.083103841746225413, 'dept')\n"
     ]
    }
   ],
   "source": [
    "from sklearn.tree import DecisionTreeClassifier\n",
    "df['leave'] = df['length'] < 400\n",
    "predictors = ['company_id','salary','seniority','dept']\n",
    "predicted = ['leave']\n",
    "\n",
    "model = DecisionTreeClassifier()\n",
    "model.fit(df[predictors],df[predicted])\n",
    "for v in sorted(zip(model.feature_importances_,predictors),reverse = True):\n",
    "    print(v)\n"
   ]
  },
  {
   "cell_type": "markdown",
   "metadata": {},
   "source": [
    "I tried this out with a classifier to see if my assumptions using the decision tree regressors were consistent and the feature importances were the same. The reason I set the length threshold to 400 was to capture more of the first distribution of those who left after 1 year. Once again, we see that salary is the most important followed by seniority."
   ]
  },
  {
   "cell_type": "markdown",
   "metadata": {
    "collapsed": true
   },
   "source": [
    "Conclusions\n",
    "1. Given how important is salary, I would definitely love to have as a variable the salary the employee\n",
    "who quit was offered in the next job. Otherwise, things like: promotions or raises received during\n",
    "the employee tenure would be interesting.\n",
    "2. The major findings are that employees quit at year anniversaries or at the beginning of the year.\n",
    "Both cases make sense. Even if you don’t like your current job, you often stay for 1 yr before\n",
    "quitting + you often get stocks after 1 yr so it makes sense to wait. Also, the beginning of the year is\n",
    "well known to be the best time to change job: companies are hiring more and you often want to stay\n",
    "until end of Dec to get the calendar year bonus.\n",
    "3. Employees with low and high salaries are less likely to quit. Probably because employees with high\n",
    "salaries are happy there and employees with low salaries are not that marketable, so they have a\n",
    "hard time finding a new job."
   ]
  },
  {
   "cell_type": "code",
   "execution_count": null,
   "metadata": {
    "collapsed": true
   },
   "outputs": [],
   "source": []
  }
 ],
 "metadata": {
  "kernelspec": {
   "display_name": "Python 3",
   "language": "python",
   "name": "python3"
  },
  "language_info": {
   "codemirror_mode": {
    "name": "ipython",
    "version": 3
   },
   "file_extension": ".py",
   "mimetype": "text/x-python",
   "name": "python",
   "nbconvert_exporter": "python",
   "pygments_lexer": "ipython3",
   "version": "3.6.1"
  }
 },
 "nbformat": 4,
 "nbformat_minor": 2
}
